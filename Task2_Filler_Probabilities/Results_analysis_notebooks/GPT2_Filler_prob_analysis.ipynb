{
 "cells": [
  {
   "cell_type": "code",
   "execution_count": 1,
   "outputs": [],
   "source": [
    "import pandas as pd\n",
    "import matplotlib.pyplot as plt\n",
    "import seaborn as sns\n",
    "import tikzplotlib"
   ],
   "metadata": {
    "collapsed": false,
    "pycharm": {
     "name": "#%%\n"
    }
   }
  },
  {
   "cell_type": "code",
   "execution_count": 2,
   "outputs": [
    {
     "data": {
      "text/plain": "      ID         Condition                                           Sentence  \\\n0      1             T – T  The photographer used the camera, and the repo...   \n1      1            T – AT  The photographer used the camera, and the butc...   \n2      1            AT – T  The grandfather used the camera, and the repor...   \n3      1           AT – AT  The grandfather used the camera, and the butch...   \n4      1  T – SP violation  The photographer used the camera, and the bike...   \n..   ...               ...                                                ...   \n570  115             T – T  The tourist packed his bags before departure, ...   \n571  115            T – AT  The tourist packed his bags before departure, ...   \n572  115            AT – T  The tourist packed his bags before the meeting...   \n573  115           AT – AT  The tourist packed his bags before the meeting...   \n574  115  T – SP violation  The tourist packed his bags before departure, ...   \n\n       Construction Semantic_Role  Standard_Filler_position_GPT  \\\n0       VP-ellipsis         Agent                             0   \n1       VP-ellipsis         Agent                             0   \n2       VP-ellipsis         Agent                             0   \n3       VP-ellipsis         Agent                             0   \n4       VP-ellipsis         Agent                             0   \n..              ...           ...                           ...   \n570  Pseudo-gapping          Time                             6   \n571  Pseudo-gapping          Time                             6   \n572  Pseudo-gapping          Time                             7   \n573  Pseudo-gapping          Time                             7   \n574  Pseudo-gapping          Time                             6   \n\n     Standard_Filler_position_BERT  Elliptical_Filler_position_GPT  \\\n0                                1                               0   \n1                                1                               0   \n2                                1                               0   \n3                                1                               0   \n4                                1                               0   \n..                             ...                             ...   \n570                              6                              14   \n571                              6                              14   \n572                              7                              15   \n573                              7                              15   \n574                              6                              14   \n\n     Elliptical_Filler_position_BERT Standard_filler Elliptical_filler  \\\n0                                  8    photographer          reporter   \n1                                  8    photographer           butcher   \n2                                  8     grandfather          reporter   \n3                                  8     grandfather           butcher   \n4                                  8    photographer              bike   \n..                               ...             ...               ...   \n570                               14       departure              move   \n571                               14       departure             party   \n572                               15         meeting              move   \n573                               15         meeting             party   \n574                               14       departure               dog   \n\n     Score1_BERT  Score2_BERT  Score1_GPT  Score2_GPT  \n0      -3.079777    -4.335385         NaN         NaN  \n1      -4.711823    -9.372536         NaN         NaN  \n2     -10.543612    -7.062604         NaN         NaN  \n3      -7.773522    -8.805918         NaN         NaN  \n4      -5.308974    -8.480192         NaN         NaN  \n..           ...          ...         ...         ...  \n570    -2.391249    -6.001656   -7.086737   -6.658537  \n571    -2.997682    -4.430182   -7.086737   -6.353322  \n572    -5.674508    -7.160135   -6.472381   -6.965591  \n573    -5.556836    -4.355678   -6.472381   -5.674573  \n574    -3.869678    -9.652214   -7.086737   -7.315508  \n\n[575 rows x 15 columns]",
      "text/html": "<div>\n<style scoped>\n    .dataframe tbody tr th:only-of-type {\n        vertical-align: middle;\n    }\n\n    .dataframe tbody tr th {\n        vertical-align: top;\n    }\n\n    .dataframe thead th {\n        text-align: right;\n    }\n</style>\n<table border=\"1\" class=\"dataframe\">\n  <thead>\n    <tr style=\"text-align: right;\">\n      <th></th>\n      <th>ID</th>\n      <th>Condition</th>\n      <th>Sentence</th>\n      <th>Construction</th>\n      <th>Semantic_Role</th>\n      <th>Standard_Filler_position_GPT</th>\n      <th>Standard_Filler_position_BERT</th>\n      <th>Elliptical_Filler_position_GPT</th>\n      <th>Elliptical_Filler_position_BERT</th>\n      <th>Standard_filler</th>\n      <th>Elliptical_filler</th>\n      <th>Score1_BERT</th>\n      <th>Score2_BERT</th>\n      <th>Score1_GPT</th>\n      <th>Score2_GPT</th>\n    </tr>\n  </thead>\n  <tbody>\n    <tr>\n      <th>0</th>\n      <td>1</td>\n      <td>T – T</td>\n      <td>The photographer used the camera, and the repo...</td>\n      <td>VP-ellipsis</td>\n      <td>Agent</td>\n      <td>0</td>\n      <td>1</td>\n      <td>0</td>\n      <td>8</td>\n      <td>photographer</td>\n      <td>reporter</td>\n      <td>-3.079777</td>\n      <td>-4.335385</td>\n      <td>NaN</td>\n      <td>NaN</td>\n    </tr>\n    <tr>\n      <th>1</th>\n      <td>1</td>\n      <td>T – AT</td>\n      <td>The photographer used the camera, and the butc...</td>\n      <td>VP-ellipsis</td>\n      <td>Agent</td>\n      <td>0</td>\n      <td>1</td>\n      <td>0</td>\n      <td>8</td>\n      <td>photographer</td>\n      <td>butcher</td>\n      <td>-4.711823</td>\n      <td>-9.372536</td>\n      <td>NaN</td>\n      <td>NaN</td>\n    </tr>\n    <tr>\n      <th>2</th>\n      <td>1</td>\n      <td>AT – T</td>\n      <td>The grandfather used the camera, and the repor...</td>\n      <td>VP-ellipsis</td>\n      <td>Agent</td>\n      <td>0</td>\n      <td>1</td>\n      <td>0</td>\n      <td>8</td>\n      <td>grandfather</td>\n      <td>reporter</td>\n      <td>-10.543612</td>\n      <td>-7.062604</td>\n      <td>NaN</td>\n      <td>NaN</td>\n    </tr>\n    <tr>\n      <th>3</th>\n      <td>1</td>\n      <td>AT – AT</td>\n      <td>The grandfather used the camera, and the butch...</td>\n      <td>VP-ellipsis</td>\n      <td>Agent</td>\n      <td>0</td>\n      <td>1</td>\n      <td>0</td>\n      <td>8</td>\n      <td>grandfather</td>\n      <td>butcher</td>\n      <td>-7.773522</td>\n      <td>-8.805918</td>\n      <td>NaN</td>\n      <td>NaN</td>\n    </tr>\n    <tr>\n      <th>4</th>\n      <td>1</td>\n      <td>T – SP violation</td>\n      <td>The photographer used the camera, and the bike...</td>\n      <td>VP-ellipsis</td>\n      <td>Agent</td>\n      <td>0</td>\n      <td>1</td>\n      <td>0</td>\n      <td>8</td>\n      <td>photographer</td>\n      <td>bike</td>\n      <td>-5.308974</td>\n      <td>-8.480192</td>\n      <td>NaN</td>\n      <td>NaN</td>\n    </tr>\n    <tr>\n      <th>...</th>\n      <td>...</td>\n      <td>...</td>\n      <td>...</td>\n      <td>...</td>\n      <td>...</td>\n      <td>...</td>\n      <td>...</td>\n      <td>...</td>\n      <td>...</td>\n      <td>...</td>\n      <td>...</td>\n      <td>...</td>\n      <td>...</td>\n      <td>...</td>\n      <td>...</td>\n    </tr>\n    <tr>\n      <th>570</th>\n      <td>115</td>\n      <td>T – T</td>\n      <td>The tourist packed his bags before departure, ...</td>\n      <td>Pseudo-gapping</td>\n      <td>Time</td>\n      <td>6</td>\n      <td>6</td>\n      <td>14</td>\n      <td>14</td>\n      <td>departure</td>\n      <td>move</td>\n      <td>-2.391249</td>\n      <td>-6.001656</td>\n      <td>-7.086737</td>\n      <td>-6.658537</td>\n    </tr>\n    <tr>\n      <th>571</th>\n      <td>115</td>\n      <td>T – AT</td>\n      <td>The tourist packed his bags before departure, ...</td>\n      <td>Pseudo-gapping</td>\n      <td>Time</td>\n      <td>6</td>\n      <td>6</td>\n      <td>14</td>\n      <td>14</td>\n      <td>departure</td>\n      <td>party</td>\n      <td>-2.997682</td>\n      <td>-4.430182</td>\n      <td>-7.086737</td>\n      <td>-6.353322</td>\n    </tr>\n    <tr>\n      <th>572</th>\n      <td>115</td>\n      <td>AT – T</td>\n      <td>The tourist packed his bags before the meeting...</td>\n      <td>Pseudo-gapping</td>\n      <td>Time</td>\n      <td>7</td>\n      <td>7</td>\n      <td>15</td>\n      <td>15</td>\n      <td>meeting</td>\n      <td>move</td>\n      <td>-5.674508</td>\n      <td>-7.160135</td>\n      <td>-6.472381</td>\n      <td>-6.965591</td>\n    </tr>\n    <tr>\n      <th>573</th>\n      <td>115</td>\n      <td>AT – AT</td>\n      <td>The tourist packed his bags before the meeting...</td>\n      <td>Pseudo-gapping</td>\n      <td>Time</td>\n      <td>7</td>\n      <td>7</td>\n      <td>15</td>\n      <td>15</td>\n      <td>meeting</td>\n      <td>party</td>\n      <td>-5.556836</td>\n      <td>-4.355678</td>\n      <td>-6.472381</td>\n      <td>-5.674573</td>\n    </tr>\n    <tr>\n      <th>574</th>\n      <td>115</td>\n      <td>T – SP violation</td>\n      <td>The tourist packed his bags before departure, ...</td>\n      <td>Pseudo-gapping</td>\n      <td>Time</td>\n      <td>6</td>\n      <td>6</td>\n      <td>14</td>\n      <td>14</td>\n      <td>departure</td>\n      <td>dog</td>\n      <td>-3.869678</td>\n      <td>-9.652214</td>\n      <td>-7.086737</td>\n      <td>-7.315508</td>\n    </tr>\n  </tbody>\n</table>\n<p>575 rows × 15 columns</p>\n</div>"
     },
     "execution_count": 2,
     "metadata": {},
     "output_type": "execute_result"
    }
   ],
   "source": [
    "ellipsis_df = pd.read_csv('/Users/caput/ELLie-ellipsis_and_thematic_fit_with_TLMs/ELLie.csv', sep = \",\", index_col= 0)\n",
    "\n",
    "ellipsis_df"
   ],
   "metadata": {
    "collapsed": false,
    "pycharm": {
     "name": "#%%\n"
    }
   }
  },
  {
   "cell_type": "code",
   "execution_count": 3,
   "outputs": [
    {
     "data": {
      "text/plain": "      ID         Condition                                           Sentence  \\\n125   26             T – T  The journalist writes an article, and the prof...   \n126   26            T – AT  The journalist writes an article, and the prof...   \n127   26            AT – T  The journalist writes a song, and the professo...   \n128   26           AT – AT  The journalist writes a song, and the professo...   \n129   26  T – SP violation  The journalist writes an article, and the prof...   \n..   ...               ...                                                ...   \n570  115             T – T  The tourist packed his bags before departure, ...   \n571  115            T – AT  The tourist packed his bags before departure, ...   \n572  115            AT – T  The tourist packed his bags before the meeting...   \n573  115           AT – AT  The tourist packed his bags before the meeting...   \n574  115  T – SP violation  The tourist packed his bags before departure, ...   \n\n       Construction Semantic_Role  Standard_Filler_position_GPT  \\\n125         Gapping       Patient                             4   \n126         Gapping       Patient                             4   \n127         Gapping       Patient                             4   \n128         Gapping       Patient                             4   \n129         Gapping       Patient                             4   \n..              ...           ...                           ...   \n570  Pseudo-gapping          Time                             6   \n571  Pseudo-gapping          Time                             6   \n572  Pseudo-gapping          Time                             7   \n573  Pseudo-gapping          Time                             7   \n574  Pseudo-gapping          Time                             6   \n\n     Standard_Filler_position_BERT  Elliptical_Filler_position_GPT  \\\n125                              4                              10   \n126                              4                              10   \n127                              4                              10   \n128                              4                              10   \n129                              4                              10   \n..                             ...                             ...   \n570                              6                              14   \n571                              6                              14   \n572                              7                              15   \n573                              7                              15   \n574                              6                              14   \n\n     Elliptical_Filler_position_BERT Standard_filler Elliptical_filler  \\\n125                               10         article              book   \n126                               10         article          magazine   \n127                               10            song              book   \n128                               10            song          magazine   \n129                               10         article             apple   \n..                               ...             ...               ...   \n570                               14       departure              move   \n571                               14       departure             party   \n572                               15         meeting              move   \n573                               15         meeting             party   \n574                               14       departure               dog   \n\n     Score1_BERT  Score2_BERT  Score1_GPT  Score2_GPT  \n125    -0.513191    -3.693677   -1.057304   -1.476517  \n126    -0.571700    -8.179724   -1.057304   -6.149436  \n127    -6.100311    -4.297268   -6.491539   -1.772749  \n128    -6.153050    -7.637376   -6.491539   -7.277339  \n129    -1.309105    -9.594118   -1.057304  -11.709642  \n..           ...          ...         ...         ...  \n570    -2.391249    -6.001656   -7.086737   -6.658537  \n571    -2.997682    -4.430182   -7.086737   -6.353322  \n572    -5.674508    -7.160135   -6.472381   -6.965591  \n573    -5.556836    -4.355678   -6.472381   -5.674573  \n574    -3.869678    -9.652214   -7.086737   -7.315508  \n\n[450 rows x 15 columns]",
      "text/html": "<div>\n<style scoped>\n    .dataframe tbody tr th:only-of-type {\n        vertical-align: middle;\n    }\n\n    .dataframe tbody tr th {\n        vertical-align: top;\n    }\n\n    .dataframe thead th {\n        text-align: right;\n    }\n</style>\n<table border=\"1\" class=\"dataframe\">\n  <thead>\n    <tr style=\"text-align: right;\">\n      <th></th>\n      <th>ID</th>\n      <th>Condition</th>\n      <th>Sentence</th>\n      <th>Construction</th>\n      <th>Semantic_Role</th>\n      <th>Standard_Filler_position_GPT</th>\n      <th>Standard_Filler_position_BERT</th>\n      <th>Elliptical_Filler_position_GPT</th>\n      <th>Elliptical_Filler_position_BERT</th>\n      <th>Standard_filler</th>\n      <th>Elliptical_filler</th>\n      <th>Score1_BERT</th>\n      <th>Score2_BERT</th>\n      <th>Score1_GPT</th>\n      <th>Score2_GPT</th>\n    </tr>\n  </thead>\n  <tbody>\n    <tr>\n      <th>125</th>\n      <td>26</td>\n      <td>T – T</td>\n      <td>The journalist writes an article, and the prof...</td>\n      <td>Gapping</td>\n      <td>Patient</td>\n      <td>4</td>\n      <td>4</td>\n      <td>10</td>\n      <td>10</td>\n      <td>article</td>\n      <td>book</td>\n      <td>-0.513191</td>\n      <td>-3.693677</td>\n      <td>-1.057304</td>\n      <td>-1.476517</td>\n    </tr>\n    <tr>\n      <th>126</th>\n      <td>26</td>\n      <td>T – AT</td>\n      <td>The journalist writes an article, and the prof...</td>\n      <td>Gapping</td>\n      <td>Patient</td>\n      <td>4</td>\n      <td>4</td>\n      <td>10</td>\n      <td>10</td>\n      <td>article</td>\n      <td>magazine</td>\n      <td>-0.571700</td>\n      <td>-8.179724</td>\n      <td>-1.057304</td>\n      <td>-6.149436</td>\n    </tr>\n    <tr>\n      <th>127</th>\n      <td>26</td>\n      <td>AT – T</td>\n      <td>The journalist writes a song, and the professo...</td>\n      <td>Gapping</td>\n      <td>Patient</td>\n      <td>4</td>\n      <td>4</td>\n      <td>10</td>\n      <td>10</td>\n      <td>song</td>\n      <td>book</td>\n      <td>-6.100311</td>\n      <td>-4.297268</td>\n      <td>-6.491539</td>\n      <td>-1.772749</td>\n    </tr>\n    <tr>\n      <th>128</th>\n      <td>26</td>\n      <td>AT – AT</td>\n      <td>The journalist writes a song, and the professo...</td>\n      <td>Gapping</td>\n      <td>Patient</td>\n      <td>4</td>\n      <td>4</td>\n      <td>10</td>\n      <td>10</td>\n      <td>song</td>\n      <td>magazine</td>\n      <td>-6.153050</td>\n      <td>-7.637376</td>\n      <td>-6.491539</td>\n      <td>-7.277339</td>\n    </tr>\n    <tr>\n      <th>129</th>\n      <td>26</td>\n      <td>T – SP violation</td>\n      <td>The journalist writes an article, and the prof...</td>\n      <td>Gapping</td>\n      <td>Patient</td>\n      <td>4</td>\n      <td>4</td>\n      <td>10</td>\n      <td>10</td>\n      <td>article</td>\n      <td>apple</td>\n      <td>-1.309105</td>\n      <td>-9.594118</td>\n      <td>-1.057304</td>\n      <td>-11.709642</td>\n    </tr>\n    <tr>\n      <th>...</th>\n      <td>...</td>\n      <td>...</td>\n      <td>...</td>\n      <td>...</td>\n      <td>...</td>\n      <td>...</td>\n      <td>...</td>\n      <td>...</td>\n      <td>...</td>\n      <td>...</td>\n      <td>...</td>\n      <td>...</td>\n      <td>...</td>\n      <td>...</td>\n      <td>...</td>\n    </tr>\n    <tr>\n      <th>570</th>\n      <td>115</td>\n      <td>T – T</td>\n      <td>The tourist packed his bags before departure, ...</td>\n      <td>Pseudo-gapping</td>\n      <td>Time</td>\n      <td>6</td>\n      <td>6</td>\n      <td>14</td>\n      <td>14</td>\n      <td>departure</td>\n      <td>move</td>\n      <td>-2.391249</td>\n      <td>-6.001656</td>\n      <td>-7.086737</td>\n      <td>-6.658537</td>\n    </tr>\n    <tr>\n      <th>571</th>\n      <td>115</td>\n      <td>T – AT</td>\n      <td>The tourist packed his bags before departure, ...</td>\n      <td>Pseudo-gapping</td>\n      <td>Time</td>\n      <td>6</td>\n      <td>6</td>\n      <td>14</td>\n      <td>14</td>\n      <td>departure</td>\n      <td>party</td>\n      <td>-2.997682</td>\n      <td>-4.430182</td>\n      <td>-7.086737</td>\n      <td>-6.353322</td>\n    </tr>\n    <tr>\n      <th>572</th>\n      <td>115</td>\n      <td>AT – T</td>\n      <td>The tourist packed his bags before the meeting...</td>\n      <td>Pseudo-gapping</td>\n      <td>Time</td>\n      <td>7</td>\n      <td>7</td>\n      <td>15</td>\n      <td>15</td>\n      <td>meeting</td>\n      <td>move</td>\n      <td>-5.674508</td>\n      <td>-7.160135</td>\n      <td>-6.472381</td>\n      <td>-6.965591</td>\n    </tr>\n    <tr>\n      <th>573</th>\n      <td>115</td>\n      <td>AT – AT</td>\n      <td>The tourist packed his bags before the meeting...</td>\n      <td>Pseudo-gapping</td>\n      <td>Time</td>\n      <td>7</td>\n      <td>7</td>\n      <td>15</td>\n      <td>15</td>\n      <td>meeting</td>\n      <td>party</td>\n      <td>-5.556836</td>\n      <td>-4.355678</td>\n      <td>-6.472381</td>\n      <td>-5.674573</td>\n    </tr>\n    <tr>\n      <th>574</th>\n      <td>115</td>\n      <td>T – SP violation</td>\n      <td>The tourist packed his bags before departure, ...</td>\n      <td>Pseudo-gapping</td>\n      <td>Time</td>\n      <td>6</td>\n      <td>6</td>\n      <td>14</td>\n      <td>14</td>\n      <td>departure</td>\n      <td>dog</td>\n      <td>-3.869678</td>\n      <td>-9.652214</td>\n      <td>-7.086737</td>\n      <td>-7.315508</td>\n    </tr>\n  </tbody>\n</table>\n<p>450 rows × 15 columns</p>\n</div>"
     },
     "execution_count": 3,
     "metadata": {},
     "output_type": "execute_result"
    }
   ],
   "source": [
    "#drop out Agent-rows since for GPT they have Nan values 'cause we didn't compute score prob for this sem-role\n",
    "\n",
    "ellipsis_df.drop(ellipsis_df[ellipsis_df['Semantic_Role'] == 'Agent'].index, inplace=True)\n",
    "ellipsis_df"
   ],
   "metadata": {
    "collapsed": false,
    "pycharm": {
     "name": "#%%\n"
    }
   }
  },
  {
   "cell_type": "code",
   "execution_count": 18,
   "outputs": [],
   "source": [
    "def filler_boxplot(df, score_number, plot_type):\n",
    "    if plot_type == \"general\":\n",
    "        if score_number == 1:\n",
    "\n",
    "            my_colors = [\"skyblue\", \"skyblue\", 'crimson', 'crimson', \"skyblue\"]\n",
    "            ax = sns.boxplot(data=df, x=\"Condition\", y=\"Score1_GPT\", width=0.5, palette = my_colors)\n",
    "            sns.set_style(\"ticks\")\n",
    "            ax.set(xlabel=None)\n",
    "            ax.set(ylabel=None)\n",
    "            ax.set_xticklabels(['T1 (T1-T2)', 'T (T-AT)','AT (AT-T)', 'AT1 (AT1-AT2)', 'T (T-viol)'])\n",
    "            plt.savefig(\"/Users/caput/ELLie-ellipsis_and_thematic_fit_with_TLMs/Plots/GPT_Filler_prob/GPT_General_filler_prob_standard_part.png\")\n",
    "            tikzplotlib.save(\"/Users/caput/ELLie-ellipsis_and_thematic_fit_with_TLMs/Plots/GPT_Filler_prob/file_tex/GPT_General_filler_prob_standard_part.tex\")\n",
    "            return ax\n",
    "\n",
    "        elif score_number ==2:\n",
    "            my_colors = [\"skyblue\", \"crimson\", 'skyblue', 'crimson', \"darkorange\"]\n",
    "            ax = sns.boxplot(data=df, x=\"Condition\", y=\"Score2_GPT\", width=0.5, palette = my_colors)\n",
    "            sns.set_style(\"ticks\")\n",
    "            ax.set(xlabel=None)\n",
    "            ax.set(ylabel=None)\n",
    "            ax.set_xticklabels(['T2 (T1-T2)', 'AT (T-AT)','T (AT-T)', 'AT2 (AT1-AT2)', 'viol (T-viol)'])\n",
    "            plt.savefig(\"/Users/caput/ELLie-ellipsis_and_thematic_fit_with_TLMs/Plots/GPT_Filler_prob/GPT_General_filler_prob_elliptical_part.png\")\n",
    "            tikzplotlib.save(\"/Users/caput/ELLie-ellipsis_and_thematic_fit_with_TLMs/Plots/GPT_Filler_prob/file_tex/GPT_General_filler_prob_elliptical_part.tex\")\n",
    "            return ax\n",
    "\n",
    "\n",
    "    elif plot_type == \"patient\":\n",
    "\n",
    "        df = df[df['Semantic_Role'] == 'Patient']\n",
    "\n",
    "        if score_number == 1:\n",
    "            my_colors = [\"skyblue\", \"skyblue\", 'crimson', 'crimson', \"skyblue\"]\n",
    "            ax = sns.boxplot(data=df, x=\"Condition\", y=\"Score1_GPT\", width=0.5, palette = my_colors)\n",
    "            sns.set_style(\"ticks\")\n",
    "            ax.set(xlabel=None)\n",
    "            ax.set(ylabel=None)\n",
    "            ax.set_xticklabels(['T1 (T1-T2)', 'T (T-AT)','AT (AT-T)', 'AT1 (AT1-AT2)', 'T (T-viol)'])\n",
    "            plt.savefig(\"/Users/caput/ELLie-ellipsis_and_thematic_fit_with_TLMs/Plots/GPT_Filler_prob/GPT_Patient_filler_prob_standard_part.png\")\n",
    "            tikzplotlib.save(\"/Users/caput/ELLie-ellipsis_and_thematic_fit_with_TLMs/Plots/GPT_Filler_prob/file_tex/GPT_Patient_filler_prob_standard_part.tex\")\n",
    "            return ax\n",
    "\n",
    "        elif score_number ==2:\n",
    "            my_colors = [\"skyblue\", \"crimson\", 'skyblue', 'crimson', \"darkorange\"]\n",
    "            ax = sns.boxplot(data=df, x=\"Condition\", y=\"Score2_GPT\", width=0.5, palette = my_colors)\n",
    "            sns.set_style(\"ticks\")\n",
    "            ax.set(xlabel=None)\n",
    "            ax.set(ylabel=None)\n",
    "            ax.set_xticklabels(['T2 (T1-T2)', 'AT (T-AT)','T (AT-T)', 'AT2 (AT1-AT2)', 'viol (T-viol)'])\n",
    "            plt.savefig(\"/Users/caput/ELLie-ellipsis_and_thematic_fit_with_TLMs/Plots/GPT_Filler_prob/GPT_Patient_filler_prob_elliptical_part.png\")\n",
    "            tikzplotlib.save(\"/Users/caput/ELLie-ellipsis_and_thematic_fit_with_TLMs/Plots/GPT_Filler_prob/file_tex/GPT_Patient_filler_prob_elliptical_part.tex\")\n",
    "            return ax\n",
    "\n",
    "    elif plot_type == \"instrument\":\n",
    "\n",
    "        df = df[df['Semantic_Role'] == 'Instrument']\n",
    "\n",
    "        if score_number == 1:\n",
    "            my_colors = [\"skyblue\", \"skyblue\", 'crimson', 'crimson', \"skyblue\"]\n",
    "            ax = sns.boxplot(data=df, x=\"Condition\", y=\"Score1_GPT\", width=0.5, palette = my_colors)\n",
    "            sns.set_style(\"ticks\")\n",
    "            ax.set(xlabel=None)\n",
    "            ax.set(ylabel=None)\n",
    "            ax.set_xticklabels(['T1 (T1-T2)', 'T (T-AT)','AT (AT-T)', 'AT1 (AT1-AT2)', 'T (T-viol)'])\n",
    "            plt.savefig(\"/Users/caput/ELLie-ellipsis_and_thematic_fit_with_TLMs/Plots/GPT_Filler_prob/GPT_Instrument_filler_prob_standard_part.png\")\n",
    "            tikzplotlib.save(\"/Users/caput/ELLie-ellipsis_and_thematic_fit_with_TLMs/Plots/GPT_Filler_prob/file_tex/GPT_Instrument_filler_prob_standard_part.tex\")\n",
    "            return ax\n",
    "\n",
    "        elif score_number ==2:\n",
    "            my_colors = [\"skyblue\", \"crimson\", 'skyblue', 'crimson', \"darkorange\"]\n",
    "            ax = sns.boxplot(data=df, x=\"Condition\", y=\"Score2_GPT\", width=0.5, palette = my_colors)\n",
    "            sns.set_style(\"ticks\")\n",
    "            ax.set(xlabel=None)\n",
    "            ax.set(ylabel=None)\n",
    "            ax.set_xticklabels(['T2 (T1-T2)', 'AT (T-AT)','T (AT-T)', 'AT2 (AT1-AT2)', 'viol (T-viol)'])\n",
    "            plt.savefig(\"/Users/caput/ELLie-ellipsis_and_thematic_fit_with_TLMs/Plots/GPT_Filler_prob/GPT_Instrument_filler_prob_elliptical_part.png\")\n",
    "            tikzplotlib.save(\"/Users/caput/ELLie-ellipsis_and_thematic_fit_with_TLMs/Plots/GPT_Filler_prob/file_tex/GPT_Instrument_filler_prob_elliptical_part.tex\")\n",
    "            return ax\n",
    "\n",
    "    elif plot_type == \"location\":\n",
    "        df = df[df['Semantic_Role'] == 'Location']\n",
    "        if score_number == 1:\n",
    "            my_colors = [\"skyblue\", \"skyblue\", 'crimson', 'crimson', \"skyblue\"]\n",
    "            ax = sns.boxplot(data=df, x=\"Condition\", y=\"Score1_GPT\", width=0.5, palette = my_colors)\n",
    "            sns.set_style(\"ticks\")\n",
    "            ax.set(xlabel=None)\n",
    "            ax.set(ylabel=None)\n",
    "            ax.set_xticklabels(['T1 (T1-T2)', 'T (T-AT)','AT (AT-T)', 'AT1 (AT1-AT2)', 'T (T-viol)'])\n",
    "            plt.savefig(\"/Users/caput/ELLie-ellipsis_and_thematic_fit_with_TLMs/Plots/GPT_Filler_prob/GPT_Location_filler_prob_standard_part.png\")\n",
    "            tikzplotlib.save(\"/Users/caput/ELLie-ellipsis_and_thematic_fit_with_TLMs/Plots/GPT_Filler_prob/file_tex/GPT_Location_filler_prob_standard_part.tex\")\n",
    "            return ax\n",
    "\n",
    "        elif score_number ==2:\n",
    "            my_colors = [\"skyblue\", \"crimson\", 'skyblue', 'crimson', \"darkorange\"]\n",
    "            ax = sns.boxplot(data=df, x=\"Condition\", y=\"Score2_GPT\", width=0.5, palette = my_colors)\n",
    "            sns.set_style(\"ticks\")\n",
    "            ax.set(xlabel=None)\n",
    "            ax.set(ylabel=None)\n",
    "            ax.set_xticklabels(['T2 (T1-T2)', 'AT (T-AT)','T (AT-T)', 'AT2 (AT1-AT2)', 'viol (T-viol)'])\n",
    "            plt.savefig(\"/Users/caput/ELLie-ellipsis_and_thematic_fit_with_TLMs/Plots/GPT_Filler_prob/GPT_Location_filler_prob_elliptical_part.png\")\n",
    "            tikzplotlib.save(\"/Users/caput/ELLie-ellipsis_and_thematic_fit_with_TLMs/Plots/GPT_Filler_prob/file_tex/GPT_Location_filler_prob_elliptical_part.tex\")\n",
    "            return ax\n",
    "\n",
    "    elif plot_type == \"time\":\n",
    "\n",
    "        df = df[df['Semantic_Role'] == 'Time']\n",
    "\n",
    "        if score_number == 1:\n",
    "            my_colors = [\"skyblue\", \"skyblue\", 'crimson', 'crimson', \"skyblue\"]\n",
    "            ax = sns.boxplot(data=df, x=\"Condition\", y=\"Score1_GPT\", width=0.5, palette = my_colors)\n",
    "            sns.set_style(\"ticks\")\n",
    "            ax.set(xlabel=None)\n",
    "            ax.set(ylabel=None)\n",
    "            ax.set_xticklabels(['T1 (T1-T2)', 'T (T-AT)','AT (AT-T)', 'AT1 (AT1-AT2)', 'T (T-viol)'])\n",
    "            plt.savefig(\"/Users/caput/ELLie-ellipsis_and_thematic_fit_with_TLMs/Plots/GPT_Filler_prob/GPT_Time_filler_prob_standard_part.png\")\n",
    "            tikzplotlib.save(\"/Users/caput/ELLie-ellipsis_and_thematic_fit_with_TLMs/Plots/GPT_Filler_prob/file_tex/GPT_Time_filler_prob_standard_part.tex\")\n",
    "            return ax\n",
    "\n",
    "        elif score_number ==2:\n",
    "            my_colors = [\"skyblue\", \"crimson\", 'skyblue', 'crimson', \"darkorange\"]\n",
    "            ax = sns.boxplot(data=df, x=\"Condition\", y=\"Score2_GPT\", width=0.5, palette = my_colors)\n",
    "            sns.set_style(\"ticks\")\n",
    "            ax.set(xlabel=None)\n",
    "            ax.set(ylabel=None)\n",
    "            ax.set_xticklabels(['T2 (T1-T2)', 'AT (T-AT)','T (AT-T)', 'AT2 (AT1-AT2)', 'viol (T-viol)'])\n",
    "            plt.savefig(\"/Users/caput/ELLie-ellipsis_and_thematic_fit_with_TLMs/Plots/GPT_Filler_prob/GPT_Time_filler_prob_elliptical_part.png\")\n",
    "            tikzplotlib.save(\"/Users/caput/ELLie-ellipsis_and_thematic_fit_with_TLMs/Plots/GPT_Filler_prob/file_tex/GPT_Time_filler_prob_elliptical_part.tex\")\n",
    "            return ax\n",
    "\n",
    "\n",
    "\n",
    "\n",
    "def boxplot_pairCondition_comparison(df, score_column1, score_column2, plot_type):\n",
    "\n",
    "    if plot_type == \"general\":\n",
    "\n",
    "        T_T1 = [row[score_column1] for index, row in df.iterrows() if row['Condition'] == \"T – T\"]\n",
    "        T_T2 = [row[score_column2] for index, row in df.iterrows() if row['Condition'] == \"T – T\"]\n",
    "        T_AT1 = [row[score_column1] for index, row in df.iterrows() if row['Condition'] == \"T – AT\"]\n",
    "        T_AT2 = [row[score_column2] for index, row in df.iterrows() if row['Condition'] == \"T – AT\"]\n",
    "        AT_T1 = [row[score_column1] for index, row in df.iterrows() if row['Condition'] == \"AT – T\"]\n",
    "        AT_T2 = [row[score_column2] for index, row in df.iterrows() if row['Condition'] == \"AT – T\"]\n",
    "        AT_AT1 = [row[score_column1] for index, row in df.iterrows() if row['Condition'] == \"AT – AT\"]\n",
    "        AT_AT2 = [row[score_column2] for index, row in df.iterrows() if row['Condition'] == \"AT – AT\"]\n",
    "        T_viol1 = [row[score_column1] for index, row in df.iterrows() if row['Condition'] == \"T – SP violation\"]\n",
    "        T_viol2 = [row[score_column2] for index, row in df.iterrows() if row['Condition'] == \"T – SP violation\"]\n",
    "\n",
    "        data = [T_T1, T_T2, T_AT1, T_AT2, AT_T1, AT_T2 , AT_AT1, AT_AT2, T_viol1, T_viol2]\n",
    "\n",
    "\n",
    "        my_colors = [\"steelblue\", \"steelblue\", \"steelblue\", \"crimson\", \"crimson\",\"steelblue\",\"crimson\",\"crimson\",\"steelblue\",\"darkorange\"]\n",
    "        ax = sns.boxplot(data=data, width=0.5,palette = my_colors)\n",
    "\n",
    "        sns.set_style(\"ticks\")\n",
    "\n",
    "        #ax.set(xlabel=None)\n",
    "        ax.set(ylabel=None)\n",
    "        ax.set_xticklabels(['(T','T)', '(T','AT)', '(AT','T)', '(AT', 'AT)', '(T', 'v)'])\n",
    "        plt.savefig(\"/Users/caput/ELLie-ellipsis_and_thematic_fit_with_TLMs/Plots/GPT_Filler_prob/GPT_General_filler_prob_pairCond.png\")\n",
    "        tikzplotlib.save(\"/Users/caput/ELLie-ellipsis_and_thematic_fit_with_TLMs/Plots/GPT_Filler_prob/file_tex/GPT_General_filler_prob_pairCond.tex\")\n",
    "        return ax\n",
    "\n",
    "    elif plot_type == \"patient\":\n",
    "\n",
    "        df = df[df['Semantic_Role'] == 'Patient']\n",
    "        T_T1 = [row[score_column1] for index, row in df.iterrows() if row['Condition'] == \"T – T\"]\n",
    "        T_T2 = [row[score_column2] for index, row in df.iterrows() if row['Condition'] == \"T – T\"]\n",
    "        T_AT1 = [row[score_column1] for index, row in df.iterrows() if row['Condition'] == \"T – AT\"]\n",
    "        T_AT2 = [row[score_column2] for index, row in df.iterrows() if row['Condition'] == \"T – AT\"]\n",
    "        AT_T1 = [row[score_column1] for index, row in df.iterrows() if row['Condition'] == \"AT – T\"]\n",
    "        AT_T2 = [row[score_column2] for index, row in df.iterrows() if row['Condition'] == \"AT – T\"]\n",
    "        AT_AT1 = [row[score_column1] for index, row in df.iterrows() if row['Condition'] == \"AT – AT\"]\n",
    "        AT_AT2 = [row[score_column2] for index, row in df.iterrows() if row['Condition'] == \"AT – AT\"]\n",
    "        T_viol1 = [row[score_column1] for index, row in df.iterrows() if row['Condition'] == \"T – SP violation\"]\n",
    "        T_viol2 = [row[score_column2] for index, row in df.iterrows() if row['Condition'] == \"T – SP violation\"]\n",
    "\n",
    "        data = [T_T1, T_T2, T_AT1, T_AT2, AT_T1, AT_T2 , AT_AT1, AT_AT2, T_viol1, T_viol2]\n",
    "\n",
    "        my_colors = [\"steelblue\", \"steelblue\", \"steelblue\", \"crimson\", \"crimson\",\"steelblue\",\"crimson\",\"crimson\",\"steelblue\",\"darkorange\"]\n",
    "        ax = sns.boxplot(data=data, width=0.5,palette = my_colors)\n",
    "\n",
    "        sns.set_style(\"ticks\")\n",
    "\n",
    "        ax.set(xlabel=None)\n",
    "        ax.set(ylabel=None)\n",
    "        ax.set_xticklabels(['(T-','-T)', '(T-','-AT)', '(AT-','-T)', '(AT-', '-AT)', '(T-', '-viol)'])\n",
    "        plt.savefig(\"/Users/caput/ELLie-ellipsis_and_thematic_fit_with_TLMs/Plots/GPT_Filler_prob/GPT_Patient_filler_prob_pairCond.png\")\n",
    "        tikzplotlib.save(\"/Users/caput/ELLie-ellipsis_and_thematic_fit_with_TLMs/Plots/GPT_Filler_prob/file_tex/GPT_Patient_filler_prob_pairCond.tex\")\n",
    "        return ax\n",
    "\n",
    "    elif plot_type == \"instrument\":\n",
    "\n",
    "        df = df[df['Semantic_Role'] == 'Instrument']\n",
    "        T_T1 = [row[score_column1] for index, row in df.iterrows() if row['Condition'] == \"T – T\"]\n",
    "        T_T2 = [row[score_column2] for index, row in df.iterrows() if row['Condition'] == \"T – T\"]\n",
    "        T_AT1 = [row[score_column1] for index, row in df.iterrows() if row['Condition'] == \"T – AT\"]\n",
    "        T_AT2 = [row[score_column2] for index, row in df.iterrows() if row['Condition'] == \"T – AT\"]\n",
    "        AT_T1 = [row[score_column1] for index, row in df.iterrows() if row['Condition'] == \"AT – T\"]\n",
    "        AT_T2 = [row[score_column2] for index, row in df.iterrows() if row['Condition'] == \"AT – T\"]\n",
    "        AT_AT1 = [row[score_column1] for index, row in df.iterrows() if row['Condition'] == \"AT – AT\"]\n",
    "        AT_AT2 = [row[score_column2] for index, row in df.iterrows() if row['Condition'] == \"AT – AT\"]\n",
    "        T_viol1 = [row[score_column1] for index, row in df.iterrows() if row['Condition'] == \"T – SP violation\"]\n",
    "        T_viol2 = [row[score_column2] for index, row in df.iterrows() if row['Condition'] == \"T – SP violation\"]\n",
    "\n",
    "        data = [T_T1, T_T2, T_AT1, T_AT2, AT_T1, AT_T2 , AT_AT1, AT_AT2, T_viol1, T_viol2]\n",
    "\n",
    "        my_colors = [\"steelblue\", \"steelblue\", \"steelblue\", \"crimson\", \"crimson\",\"steelblue\",\"crimson\",\"crimson\",\"steelblue\",\"darkorange\"]\n",
    "        ax = sns.boxplot(data=data, width=0.5,palette = my_colors)\n",
    "\n",
    "        sns.set_style(\"ticks\")\n",
    "\n",
    "        ax.set(xlabel=None)\n",
    "        ax.set(ylabel=None)\n",
    "        ax.set_xticklabels(['(T-','-T)', '(T-','-AT)', '(AT-','-T)', '(AT-', '-AT)', '(T-', '-viol)'])\n",
    "        plt.savefig(\"/Users/caput/ELLie-ellipsis_and_thematic_fit_with_TLMs/Plots/GPT_Filler_prob/GPT_Instrument_filler_prob_pairCond.png\")\n",
    "        tikzplotlib.save(\"/Users/caput/ELLie-ellipsis_and_thematic_fit_with_TLMs/Plots/GPT_Filler_prob/file_tex/GPT_Instrument_filler_prob_pairCond.tex\")\n",
    "        return ax\n",
    "\n",
    "    elif plot_type == \"location\":\n",
    "\n",
    "        df = df[df['Semantic_Role'] == 'Location']\n",
    "        T_T1 = [row[score_column1] for index, row in df.iterrows() if row['Condition'] == \"T – T\"]\n",
    "        T_T2 = [row[score_column2] for index, row in df.iterrows() if row['Condition'] == \"T – T\"]\n",
    "        T_AT1 = [row[score_column1] for index, row in df.iterrows() if row['Condition'] == \"T – AT\"]\n",
    "        T_AT2 = [row[score_column2] for index, row in df.iterrows() if row['Condition'] == \"T – AT\"]\n",
    "        AT_T1 = [row[score_column1] for index, row in df.iterrows() if row['Condition'] == \"AT – T\"]\n",
    "        AT_T2 = [row[score_column2] for index, row in df.iterrows() if row['Condition'] == \"AT – T\"]\n",
    "        AT_AT1 = [row[score_column1] for index, row in df.iterrows() if row['Condition'] == \"AT – AT\"]\n",
    "        AT_AT2 = [row[score_column2] for index, row in df.iterrows() if row['Condition'] == \"AT – AT\"]\n",
    "        T_viol1 = [row[score_column1] for index, row in df.iterrows() if row['Condition'] == \"T – SP violation\"]\n",
    "        T_viol2 = [row[score_column2] for index, row in df.iterrows() if row['Condition'] == \"T – SP violation\"]\n",
    "\n",
    "        data = [T_T1, T_T2, T_AT1, T_AT2, AT_T1, AT_T2 , AT_AT1, AT_AT2, T_viol1, T_viol2]\n",
    "\n",
    "        my_colors = [\"steelblue\", \"steelblue\", \"steelblue\", \"crimson\", \"crimson\",\"steelblue\",\"crimson\",\"crimson\",\"steelblue\",\"darkorange\"]\n",
    "        ax = sns.boxplot(data=data, width=0.5,palette = my_colors)\n",
    "\n",
    "        sns.set_style(\"ticks\")\n",
    "\n",
    "        ax.set(xlabel=None)\n",
    "        ax.set(ylabel=None)\n",
    "        ax.set_xticklabels(['(T-','-T)', '(T-','-AT)', '(AT-','-T)', '(AT-', '-AT)', '(T-', '-viol)'])\n",
    "        plt.savefig(\"/Users/caput/ELLie-ellipsis_and_thematic_fit_with_TLMs/Plots/GPT_Filler_prob/GPT_Location_filler_prob_pairCond.png\")\n",
    "        tikzplotlib.save(\"/Users/caput/ELLie-ellipsis_and_thematic_fit_with_TLMs/Plots/GPT_Filler_prob/file_tex/GPT_Location_filler_prob_pairCond.tex\")\n",
    "        return ax\n",
    "\n",
    "    elif plot_type == \"time\":\n",
    "\n",
    "        df = df[df['Semantic_Role'] == 'Time']\n",
    "        T_T1 = [row[score_column1] for index, row in df.iterrows() if row['Condition'] == \"T – T\"]\n",
    "        T_T2 = [row[score_column2] for index, row in df.iterrows() if row['Condition'] == \"T – T\"]\n",
    "        T_AT1 = [row[score_column1] for index, row in df.iterrows() if row['Condition'] == \"T – AT\"]\n",
    "        T_AT2 = [row[score_column2] for index, row in df.iterrows() if row['Condition'] == \"T – AT\"]\n",
    "        AT_T1 = [row[score_column1] for index, row in df.iterrows() if row['Condition'] == \"AT – T\"]\n",
    "        AT_T2 = [row[score_column2] for index, row in df.iterrows() if row['Condition'] == \"AT – T\"]\n",
    "        AT_AT1 = [row[score_column1] for index, row in df.iterrows() if row['Condition'] == \"AT – AT\"]\n",
    "        AT_AT2 = [row[score_column2] for index, row in df.iterrows() if row['Condition'] == \"AT – AT\"]\n",
    "        T_viol1 = [row[score_column1] for index, row in df.iterrows() if row['Condition'] == \"T – SP violation\"]\n",
    "        T_viol2 = [row[score_column2] for index, row in df.iterrows() if row['Condition'] == \"T – SP violation\"]\n",
    "\n",
    "        data = [T_T1, T_T2, T_AT1, T_AT2, AT_T1, AT_T2 , AT_AT1, AT_AT2, T_viol1, T_viol2]\n",
    "\n",
    "        my_colors = [\"steelblue\", \"steelblue\", \"steelblue\", \"crimson\", \"crimson\",\"steelblue\",\"crimson\",\"crimson\",\"steelblue\",\"darkorange\"]\n",
    "        ax = sns.boxplot(data=data, width=0.5,palette = my_colors)\n",
    "\n",
    "        sns.set_style(\"ticks\")\n",
    "\n",
    "        ax.set(xlabel=None)\n",
    "        ax.set(ylabel=None)\n",
    "        ax.set_xticklabels(['(T-','-T)', '(T-','-AT)', '(AT-','-T)', '(AT-', '-AT)', '(T-', '-viol)'])\n",
    "        plt.savefig(\"/Users/caput/ELLie-ellipsis_and_thematic_fit_with_TLMs/Plots/GPT_Filler_prob/GPT_Time_filler_prob_pairCond.png\")\n",
    "        tikzplotlib.save(\"/Users/caput/ELLie-ellipsis_and_thematic_fit_with_TLMs/Plots/GPT_Filler_prob/file_tex/GPT_Time_filler_prob_pairCond.tex\")\n",
    "        return ax\n",
    "\n",
    "\n",
    "\n",
    "\n",
    "\n",
    "def boxplot_sentPart_comparison(df, score_column1, score_column2, plot_type):\n",
    "\n",
    "    if plot_type == \"general\":\n",
    "\n",
    "        T_T = df[df['Condition'] ==  \"T – T\" ]\n",
    "        T_AT = df[df['Condition'] ==  \"T – AT\" ]\n",
    "        T_viol = df[df['Condition'] ==  \"T – SP violation\" ]\n",
    "        AT_T = df[df['Condition'] ==  \"AT – T\" ]\n",
    "        AT_AT = df[df['Condition'] ==  \"AT – AT\" ]\n",
    "\n",
    "\n",
    "\n",
    "        T1 = pd.concat([T_T, T_AT, T_viol], ignore_index=True)\n",
    "        T1_score = [row[score_column1] for index, row in T1.iterrows()]\n",
    "\n",
    "\n",
    "        T2 = pd.concat([T_T, AT_T,], ignore_index=True)\n",
    "        T2_score = [row[score_column2] for index, row in T2.iterrows()]\n",
    "\n",
    "        AT1 = pd.concat([AT_T, AT_AT,], ignore_index=True)\n",
    "        AT1_score = [row[score_column1] for index, row in AT1.iterrows()]\n",
    "\n",
    "        AT2 = pd.concat([T_AT, AT_AT,], ignore_index=True)\n",
    "        AT2_score = [row[score_column2] for index, row in AT2.iterrows()]\n",
    "\n",
    "        viol_score = [row[score_column2] for index, row in T_viol.iterrows()]\n",
    "\n",
    "        data = [T1_score, T2_score, AT1_score, AT2_score, viol_score]\n",
    "\n",
    "        my_colors = ['skyblue', 'steelblue', 'r', 'crimson', \"darkorange\" ]\n",
    "        ax = sns.boxplot(data=data, width=0.5, palette = my_colors)\n",
    "\n",
    "        sns.set_style(\"ticks\")\n",
    "\n",
    "        ax.set(xlabel=None)\n",
    "        ax.set(ylabel=None)\n",
    "        ax.set_xticklabels(['T_SPart','T_EPart', 'AT_SPart', 'AT_EPart', 'viol_EPart'])\n",
    "\n",
    "        plt.savefig(\"/Users/caput/ELLie-ellipsis_and_thematic_fit_with_TLMs/Plots/GPT_Filler_prob/GPT_General_filler_prob_SentPart.png\")\n",
    "        tikzplotlib.save(\"/Users/caput/ELLie-ellipsis_and_thematic_fit_with_TLMs/Plots/GPT_Filler_prob/file_tex/GPT_General_filler_prob_SentPart.tex\")\n",
    "        return ax\n",
    "\n",
    "    elif plot_type == \"patient\":\n",
    "\n",
    "        df = df[df['Semantic_Role'] == 'Patient']\n",
    "        T_T = df[df['Condition'] ==  \"T – T\" ]\n",
    "        T_AT = df[df['Condition'] ==  \"T – AT\" ]\n",
    "        T_viol = df[df['Condition'] ==  \"T – SP violation\" ]\n",
    "        AT_T = df[df['Condition'] ==  \"AT – T\" ]\n",
    "        AT_AT = df[df['Condition'] ==  \"AT – AT\" ]\n",
    "\n",
    "        T1 = pd.concat([T_T, T_AT, T_viol], ignore_index=True)\n",
    "        T1_score = [row[score_column1] for index, row in T1.iterrows()]\n",
    "\n",
    "        T2 = pd.concat([T_T, AT_T,], ignore_index=True)\n",
    "        T2_score = [row[score_column2] for index, row in T2.iterrows()]\n",
    "\n",
    "        AT1 = pd.concat([AT_T, AT_AT,], ignore_index=True)\n",
    "        AT1_score = [row[score_column1] for index, row in AT1.iterrows()]\n",
    "\n",
    "        AT2 = pd.concat([T_AT, AT_AT,], ignore_index=True)\n",
    "        AT2_score = [row[score_column2] for index, row in AT2.iterrows()]\n",
    "\n",
    "\n",
    "        viol_score = [row[score_column2] for index, row in T_viol.iterrows()]\n",
    "\n",
    "        data = [T1_score, T2_score, AT1_score, AT2_score, viol_score]\n",
    "\n",
    "        my_colors = ['skyblue', 'steelblue', 'r', 'crimson', \"darkorange\" ]\n",
    "        ax = sns.boxplot(data=data, width=0.5, palette = my_colors)\n",
    "\n",
    "        sns.set_style(\"ticks\")\n",
    "\n",
    "        ax.set(xlabel=None)\n",
    "        ax.set(ylabel=None)\n",
    "        ax.set_xticklabels(['T_SPart','T_EPart', 'AT_SPart', 'AT_EPart', 'viol_EPart'])\n",
    "\n",
    "        plt.savefig(\"/Users/caput/ELLie-ellipsis_and_thematic_fit_with_TLMs/Plots/GPT_Filler_prob/GPT_Patient_filler_prob_SentPart.png\")\n",
    "        tikzplotlib.save(\"/Users/caput/ELLie-ellipsis_and_thematic_fit_with_TLMs/Plots/GPT_Filler_prob/file_tex/GPT_Patient_filler_prob_SentPart.tex\")\n",
    "        return ax\n",
    "\n",
    "    elif plot_type == \"instrument\":\n",
    "        df = df[df['Semantic_Role'] == 'Instrument']\n",
    "\n",
    "        T_T = df[df['Condition'] ==  \"T – T\" ]\n",
    "        T_AT = df[df['Condition'] ==  \"T – AT\" ]\n",
    "        T_viol = df[df['Condition'] ==  \"T – SP violation\" ]\n",
    "        AT_T = df[df['Condition'] ==  \"AT – T\" ]\n",
    "        AT_AT = df[df['Condition'] ==  \"AT – AT\" ]\n",
    "\n",
    "        T1 = pd.concat([T_T, T_AT, T_viol], ignore_index=True)\n",
    "        T1_score = [row[score_column1] for index, row in T1.iterrows()]\n",
    "\n",
    "        T2 = pd.concat([T_T, AT_T,], ignore_index=True)\n",
    "        T2_score = [row[score_column2] for index, row in T2.iterrows()]\n",
    "\n",
    "        AT1 = pd.concat([AT_T, AT_AT,], ignore_index=True)\n",
    "        AT1_score = [row[score_column1] for index, row in AT1.iterrows()]\n",
    "\n",
    "        AT2 = pd.concat([T_AT, AT_AT,], ignore_index=True)\n",
    "        AT2_score = [row[score_column2] for index, row in AT2.iterrows()]\n",
    "\n",
    "\n",
    "        viol_score = [row[score_column2] for index, row in T_viol.iterrows()]\n",
    "\n",
    "        data = [T1_score, T2_score, AT1_score, AT2_score, viol_score]\n",
    "\n",
    "        my_colors = ['skyblue', 'steelblue', 'r', 'crimson', \"darkorange\" ]\n",
    "        ax = sns.boxplot(data=data, width=0.5, palette = my_colors)\n",
    "\n",
    "        sns.set_style(\"ticks\")\n",
    "\n",
    "        ax.set(xlabel=None)\n",
    "        ax.set(ylabel=None)\n",
    "        ax.set_xticklabels(['T_SPart','T_EPart', 'AT_SPart', 'AT_EPart', 'viol_EPart'])\n",
    "\n",
    "        plt.savefig(\"/Users/caput/ELLie-ellipsis_and_thematic_fit_with_TLMs/Plots/GPT_Filler_prob/GPT_Instrument_filler_prob_SentPart.png\")\n",
    "        tikzplotlib.save(\"/Users/caput/ELLie-ellipsis_and_thematic_fit_with_TLMs/Plots/GPT_Filler_prob/file_tex/GPT_Instrument_filler_prob_SentPart.tex\")\n",
    "        return ax\n",
    "\n",
    "    elif plot_type == \"location\":\n",
    "\n",
    "        df = df[df['Semantic_Role'] == 'Location']\n",
    "        T_T = df[df['Condition'] ==  \"T – T\" ]\n",
    "        T_AT = df[df['Condition'] ==  \"T – AT\" ]\n",
    "        T_viol = df[df['Condition'] ==  \"T – SP violation\" ]\n",
    "        AT_T = df[df['Condition'] ==  \"AT – T\" ]\n",
    "        AT_AT = df[df['Condition'] ==  \"AT – AT\" ]\n",
    "\n",
    "        T1 = pd.concat([T_T, T_AT, T_viol], ignore_index=True)\n",
    "        T1_score = [row[score_column1] for index, row in T1.iterrows()]\n",
    "\n",
    "        T2 = pd.concat([T_T, AT_T,], ignore_index=True)\n",
    "        T2_score = [row[score_column2] for index, row in T2.iterrows()]\n",
    "\n",
    "        AT1 = pd.concat([AT_T, AT_AT,], ignore_index=True)\n",
    "        AT1_score = [row[score_column1] for index, row in AT1.iterrows()]\n",
    "\n",
    "        AT2 = pd.concat([T_AT, AT_AT,], ignore_index=True)\n",
    "        AT2_score = [row[score_column2] for index, row in AT2.iterrows()]\n",
    "\n",
    "\n",
    "        viol_score = [row[score_column2] for index, row in T_viol.iterrows()]\n",
    "\n",
    "        data = [T1_score, T2_score, AT1_score, AT2_score, viol_score]\n",
    "\n",
    "        my_colors = ['skyblue', 'steelblue', 'r', 'crimson', \"darkorange\" ]\n",
    "        ax = sns.boxplot(data=data, width=0.5, palette = my_colors)\n",
    "\n",
    "        sns.set_style(\"ticks\")\n",
    "\n",
    "        ax.set(xlabel=None)\n",
    "        ax.set(ylabel=None)\n",
    "        ax.set_xticklabels(['T_SPart','T_EPart', 'AT_SPart', 'AT_EPart', 'viol_EPart'])\n",
    "\n",
    "        plt.savefig(\"/Users/caput/ELLie-ellipsis_and_thematic_fit_with_TLMs/Plots/GPT_Filler_prob/GPT_Location_filler_prob_SentPart.png\")\n",
    "        tikzplotlib.save(\"/Users/caput/ELLie-ellipsis_and_thematic_fit_with_TLMs/Plots/GPT_Filler_prob/file_tex/GPT_Location_filler_prob_SentPart.tex\")\n",
    "        return ax\n",
    "\n",
    "    elif plot_type == \"time\":\n",
    "\n",
    "        df = df[df['Semantic_Role'] == 'Time']\n",
    "        T_T = df[df['Condition'] ==  \"T – T\" ]\n",
    "        T_AT = df[df['Condition'] ==  \"T – AT\" ]\n",
    "        T_viol = df[df['Condition'] ==  \"T – SP violation\" ]\n",
    "        AT_T = df[df['Condition'] ==  \"AT – T\" ]\n",
    "        AT_AT = df[df['Condition'] ==  \"AT – AT\" ]\n",
    "\n",
    "        T1 = pd.concat([T_T, T_AT, T_viol], ignore_index=True)\n",
    "        T1_score = [row[score_column1] for index, row in T1.iterrows()]\n",
    "\n",
    "        T2 = pd.concat([T_T, AT_T,], ignore_index=True)\n",
    "        T2_score = [row[score_column2] for index, row in T2.iterrows()]\n",
    "\n",
    "        AT1 = pd.concat([AT_T, AT_AT,], ignore_index=True)\n",
    "        AT1_score = [row[score_column1] for index, row in AT1.iterrows()]\n",
    "\n",
    "        AT2 = pd.concat([T_AT, AT_AT,], ignore_index=True)\n",
    "        AT2_score = [row[score_column2] for index, row in AT2.iterrows()]\n",
    "\n",
    "\n",
    "        viol_score = [row[score_column2] for index, row in T_viol.iterrows()]\n",
    "\n",
    "        data = [T1_score, T2_score, AT1_score, AT2_score, viol_score]\n",
    "\n",
    "        my_colors = ['skyblue', 'steelblue', 'r', 'crimson', \"darkorange\" ]\n",
    "        ax = sns.boxplot(data=data, width=0.5, palette = my_colors)\n",
    "\n",
    "        sns.set_style(\"ticks\")\n",
    "\n",
    "        ax.set(xlabel=None)\n",
    "        ax.set(ylabel=None)\n",
    "        ax.set_xticklabels(['T_SPart','T_EPart', 'AT_SPart', 'AT_EPart', 'viol_EPart'])\n",
    "\n",
    "        plt.savefig(\"/Users/caput/ELLie-ellipsis_and_thematic_fit_with_TLMs/Plots/GPT_Filler_prob/GPT_Time_filler_prob_SentPart.png\")\n",
    "        tikzplotlib.save(\"/Users/caput/ELLie-ellipsis_and_thematic_fit_with_TLMs/Plots/GPT_Filler_prob/file_tex/GPT_Time_filler_prob_SentPart.tex\")\n",
    "        return ax\n",
    "\n",
    "\n",
    "\n",
    "\n",
    "def boxplot_comparison_typical(df, score_column1, score_column2):\n",
    "    T_T = df[df['Condition'] ==  \"T – T\" ]\n",
    "    T_AT = df[df['Condition'] ==  \"T – AT\" ]\n",
    "    T_viol = df[df['Condition'] ==  \"T – SP violation\" ]\n",
    "    AT_T = df[df['Condition'] ==  \"AT – T\" ]\n",
    "    AT_AT = df[df['Condition'] ==  \"AT – AT\" ]\n",
    "\n",
    "\n",
    "\n",
    "    T1 = pd.concat([T_T, T_AT, T_viol], ignore_index=True)\n",
    "    T1_score = [row[score_column1] for index, row in T1.iterrows()]\n",
    "\n",
    "    AT2 = pd.concat([T_AT, AT_AT], ignore_index=True)\n",
    "    T2_score = [row[score_column2] for index, row in AT2.iterrows()]\n",
    "\n",
    "\n",
    "    data = [T1_score, T2_score]\n",
    "\n",
    "    my_colors = ['skyblue', 'steelblue' ]\n",
    "    ax = sns.boxplot(data=data, width=0.5, palette = my_colors)\n",
    "\n",
    "    sns.set_style(\"ticks\")\n",
    "\n",
    "    ax.set(xlabel=None)\n",
    "    ax.set(ylabel=None)\n",
    "    ax.set_xticklabels(['Typical fillers(SPart)','Typical fillers(EPart)'])\n",
    "\n",
    "    plt.savefig(\"/Users/caput/ELLie-ellipsis_and_thematic_fit_with_TLMs/Plots/GPT_Filler_prob/GPT_Typical_filler_prob_SentPart.png\")\n",
    "    tikzplotlib.save(\"/Users/caput/ELLie-ellipsis_and_thematic_fit_with_TLMs/Plots/GPT_Filler_prob/file_tex/GPT_Typical_filler_prob_SentPart.tex\")\n",
    "    return ax\n",
    "\n",
    "\n",
    "\n",
    "\n",
    "\n",
    "def boxplot_comparison_atypical_viol(df, score_column1, score_column2):\n",
    "    T_T = df[df['Condition'] ==  \"T – T\" ]\n",
    "    T_AT = df[df['Condition'] ==  \"T – AT\" ]\n",
    "    T_viol = df[df['Condition'] ==  \"T – SP violation\" ]\n",
    "    AT_T = df[df['Condition'] ==  \"AT – T\" ]\n",
    "    AT_AT = df[df['Condition'] ==  \"AT – AT\" ]\n",
    "\n",
    "\n",
    "\n",
    "    T1 = pd.concat([AT_T, AT_AT], ignore_index=True)\n",
    "    T1_score = [row[score_column1] for index, row in T1.iterrows()]\n",
    "\n",
    "    AT2 = pd.concat([T_AT, AT_AT], ignore_index=True)\n",
    "    T2_score = [row[score_column2] for index, row in AT2.iterrows()]\n",
    "\n",
    "    viol_score = [row[score_column2] for index, row in T_viol.iterrows()]\n",
    "    data = [T1_score, T2_score, viol_score]\n",
    "\n",
    "    my_colors = ['r', 'crimson', \"darkorange\"]\n",
    "    ax = sns.boxplot(data=data, width=0.5, palette = my_colors)\n",
    "\n",
    "    sns.set_style(\"ticks\")\n",
    "\n",
    "    ax.set(xlabel=None)\n",
    "    ax.set(ylabel=None)\n",
    "    ax.set_xticklabels(['Atypical fillers(SPart)','Atypical fillers(EPart)', 'SP viol(EPart)'])\n",
    "\n",
    "    plt.savefig(\"/Users/caput/ELLie-ellipsis_and_thematic_fit_with_TLMs/Plots/GPT_Filler_prob/GPT_Atypical_viol_filler_prob_SentPart.png\")\n",
    "    tikzplotlib.save(\"/Users/caput/ELLie-ellipsis_and_thematic_fit_with_TLMs/Plots/GPT_Filler_prob/file_tex/GPT_Atypical_viol_filler_prob_SentPart.tex\")\n",
    "    return ax\n",
    "\n",
    "\n"
   ],
   "metadata": {
    "collapsed": false,
    "pycharm": {
     "name": "#%%\n"
    }
   }
  },
  {
   "cell_type": "code",
   "execution_count": 137,
   "outputs": [],
   "source": [],
   "metadata": {
    "collapsed": false,
    "pycharm": {
     "name": "#%%\n"
    }
   }
  },
  {
   "cell_type": "code",
   "execution_count": 138,
   "outputs": [
    {
     "data": {
      "text/plain": "<AxesSubplot:>"
     },
     "execution_count": 138,
     "metadata": {},
     "output_type": "execute_result"
    },
    {
     "data": {
      "text/plain": "<Figure size 640x480 with 1 Axes>",
      "image/png": "[encoded data removed]"
     },
     "metadata": {},
     "output_type": "display_data"
    }
   ],
   "source": [
    "filler_boxplot(ellipsis_df, 1, \"general\")"
   ],
   "metadata": {
    "collapsed": false,
    "pycharm": {
     "name": "#%%\n"
    }
   }
  },
  {
   "cell_type": "code",
   "execution_count": 139,
   "outputs": [
    {
     "data": {
      "text/plain": "<AxesSubplot:>"
     },
     "execution_count": 139,
     "metadata": {},
     "output_type": "execute_result"
    },
    {
     "data": {
      "text/plain": "<Figure size 640x480 with 1 Axes>",
      "image/png": "[encoded data removed]"
     },
     "metadata": {},
     "output_type": "display_data"
    }
   ],
   "source": [
    "filler_boxplot(ellipsis_df, 2, \"general\")"
   ],
   "metadata": {
    "collapsed": false,
    "pycharm": {
     "name": "#%%\n"
    }
   }
  },
  {
   "cell_type": "code",
   "execution_count": 140,
   "outputs": [
    {
     "data": {
      "text/plain": "<AxesSubplot:>"
     },
     "execution_count": 140,
     "metadata": {},
     "output_type": "execute_result"
    },
    {
     "data": {
      "text/plain": "<Figure size 640x480 with 1 Axes>",
      "image/png": "[encoded data removed]"
     },
     "metadata": {},
     "output_type": "display_data"
    }
   ],
   "source": [
    "filler_boxplot(ellipsis_df,  2, 'location')"
   ],
   "metadata": {
    "collapsed": false,
    "pycharm": {
     "name": "#%%\n"
    }
   }
  },
  {
   "cell_type": "code",
   "execution_count": 20,
   "outputs": [
    {
     "data": {
      "text/plain": "<AxesSubplot:>"
     },
     "execution_count": 20,
     "metadata": {},
     "output_type": "execute_result"
    },
    {
     "data": {
      "text/plain": "<Figure size 640x480 with 1 Axes>",
      "image/png": "[encoded data removed]"
     },
     "metadata": {},
     "output_type": "display_data"
    }
   ],
   "source": [
    "boxplot_pairCondition_comparison(ellipsis_df, 'Score1_GPT', 'Score2_GPT', \"general\")"
   ],
   "metadata": {
    "collapsed": false,
    "pycharm": {
     "name": "#%%\n"
    }
   }
  },
  {
   "cell_type": "code",
   "execution_count": 8,
   "outputs": [],
   "source": [],
   "metadata": {
    "collapsed": false,
    "pycharm": {
     "name": "#%%\n"
    }
   }
  },
  {
   "cell_type": "code",
   "execution_count": 142,
   "outputs": [
    {
     "data": {
      "text/plain": "<AxesSubplot:>"
     },
     "execution_count": 142,
     "metadata": {},
     "output_type": "execute_result"
    },
    {
     "data": {
      "text/plain": "<Figure size 640x480 with 1 Axes>",
      "image/png": "[encoded data removed]"
     },
     "metadata": {},
     "output_type": "display_data"
    }
   ],
   "source": [
    "boxplot_sentPart_comparison(ellipsis_df, 'Score1_GPT', 'Score2_GPT', \"general\")"
   ],
   "metadata": {
    "collapsed": false,
    "pycharm": {
     "name": "#%%\n"
    }
   }
  },
  {
   "cell_type": "code",
   "execution_count": 143,
   "outputs": [
    {
     "data": {
      "text/plain": "<AxesSubplot:>"
     },
     "execution_count": 143,
     "metadata": {},
     "output_type": "execute_result"
    },
    {
     "data": {
      "text/plain": "<Figure size 640x480 with 1 Axes>",
      "image/png": "[encoded data removed]"
     },
     "metadata": {},
     "output_type": "display_data"
    }
   ],
   "source": [
    "boxplot_comparison_typical(ellipsis_df, 'Score1_GPT', 'Score2_GPT')"
   ],
   "metadata": {
    "collapsed": false,
    "pycharm": {
     "name": "#%%\n"
    }
   }
  },
  {
   "cell_type": "code",
   "execution_count": 144,
   "outputs": [
    {
     "data": {
      "text/plain": "<AxesSubplot:>"
     },
     "execution_count": 144,
     "metadata": {},
     "output_type": "execute_result"
    },
    {
     "data": {
      "text/plain": "<Figure size 640x480 with 1 Axes>",
      "image/png": "[encoded data removed]"
     },
     "metadata": {},
     "output_type": "display_data"
    }
   ],
   "source": [
    "\n",
    "\n",
    "boxplot_comparison_atypical_viol(ellipsis_df, 'Score1_GPT', 'Score2_GPT')"
   ],
   "metadata": {
    "collapsed": false,
    "pycharm": {
     "name": "#%%\n"
    }
   }
  },
  {
   "cell_type": "code",
   "execution_count": 144,
   "outputs": [],
   "source": [],
   "metadata": {
    "collapsed": false,
    "pycharm": {
     "name": "#%%\n"
    }
   }
  }
 ],
 "metadata": {
  "kernelspec": {
   "display_name": "Python 3",
   "language": "python",
   "name": "python3"
  },
  "language_info": {
   "codemirror_mode": {
    "name": "ipython",
    "version": 2
   },
   "file_extension": ".py",
   "mimetype": "text/x-python",
   "name": "python",
   "nbconvert_exporter": "python",
   "pygments_lexer": "ipython2",
   "version": "2.7.6"
  }
 },
 "nbformat": 4,
 "nbformat_minor": 0
}